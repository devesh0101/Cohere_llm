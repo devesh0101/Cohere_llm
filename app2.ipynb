{
 "cells": [
  {
   "cell_type": "code",
   "execution_count": 2,
   "metadata": {},
   "outputs": [],
   "source": [
    "import cohere\n",
    "import streamlit as st"
   ]
  },
  {
   "cell_type": "code",
   "execution_count": 4,
   "metadata": {},
   "outputs": [],
   "source": [
    "co = cohere.Client(api_key=\"\")\n",
    "\n",
    "message = \"Can you tell me about LLMs?\""
   ]
  },
  {
   "cell_type": "code",
   "execution_count": 7,
   "metadata": {},
   "outputs": [],
   "source": [
    "response = co.chat(\n",
    "  model=\"command-r-plus\",\n",
    "\tchat_history=[\n",
    "    {\"role\": \"USER\", \"text\": \"Hey, my name is Michael!\"},\n",
    "    {\"role\": \"CHATBOT\", \"text\": \"Hey Michael! How can I help you today?\"},\n",
    "  ],\n",
    "  message=\"Can you tell me about Cohere Company\"\n",
    ")"
   ]
  },
  {
   "cell_type": "code",
   "execution_count": 8,
   "metadata": {},
   "outputs": [
    {
     "name": "stdout",
     "output_type": "stream",
     "text": [
      "Cohere is a Canadian startup that provides natural language processing models that help companies improve their customer service and user experience. The company was founded in 2019 by Aidan Gomez, Nick Frosst, and Ivan Zhang, who previously worked at Google Brain and OpenAI. Cohere's mission is to make it easy for developers to build applications that can understand and respond to natural language input.\n",
      "\n",
      "Cohere has developed a large language model called Command, which is trained on a massive amount of text data and can generate human-like responses to a wide range of prompts. Command is designed to be adaptable and flexible, allowing developers to customize it for their specific use cases.\n",
      "\n",
      "One of Cohere's key offerings is its API, which enables developers to integrate Command into their applications without needing expertise in machine learning or natural language processing. This makes it easier for companies to add natural language understanding capabilities to their products, such as chatbots, virtual assistants, or text analysis tools.\n",
      "\n",
      "Cohere has raised significant funding from prominent investors, including Index Ventures and Microsoft's venture capital fund, M12. The company has also established partnerships with organizations like Amazon Web Services (AWS) to make its technology more accessible to businesses.\n",
      "\n",
      "Overall, Cohere is focused on democratizing natural language processing and enabling developers to build innovative applications that can understand and interpret human language more effectively.\n"
     ]
    }
   ],
   "source": [
    "print(response.text) "
   ]
  },
  {
   "cell_type": "code",
   "execution_count": null,
   "metadata": {},
   "outputs": [],
   "source": []
  }
 ],
 "metadata": {
  "kernelspec": {
   "display_name": "Python 3",
   "language": "python",
   "name": "python3"
  },
  "language_info": {
   "codemirror_mode": {
    "name": "ipython",
    "version": 3
   },
   "file_extension": ".py",
   "mimetype": "text/x-python",
   "name": "python",
   "nbconvert_exporter": "python",
   "pygments_lexer": "ipython3",
   "version": "3.11.8"
  }
 },
 "nbformat": 4,
 "nbformat_minor": 2
}
